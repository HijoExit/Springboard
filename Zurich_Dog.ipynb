{
 "cells": [
  {
   "cell_type": "code",
   "execution_count": 1,
   "id": "67bd45e1",
   "metadata": {},
   "outputs": [],
   "source": [
    "import pandas as pd\n",
    "import matplotlib.pyplot as plt\n",
    "import seaborn as sns"
   ]
  },
  {
   "cell_type": "markdown",
   "id": "2bd4222d",
   "metadata": {},
   "source": [
    "This data analysis is done to find out what type of dog do people prefer. There are two reasons to explore this. \n",
    "A pet product company could use this data to market their product, using the most popular dog for advertisment. Moreover, the company can market their products for types of dog that people prefer.\n",
    "The second reason is to find out which dogs are being neglected. Stray dog is an issue that is common in the western world. Dogs that aren't taken in the shelter are likely to be killed. This data can be used to show which type of dog aren't popular and try to make sure only popular dogs aren't taken to give fair chances to all the dogs."
   ]
  },
  {
   "cell_type": "code",
   "execution_count": 2,
   "id": "0e2f790b",
   "metadata": {},
   "outputs": [],
   "source": [
    "Y2015 = pd.read_csv('20151001hundehalter.csv')\n",
    "Y2016 = pd.read_csv('20160307hundehalter.csv')\n",
    "Y2017 = pd.read_csv('20170308hundehalter.csv')\n",
    "Zur = pd.read_csv('zuordnungstabellehunderassehundetyp.csv')"
   ]
  },
  {
   "cell_type": "code",
   "execution_count": 3,
   "id": "33caa62e",
   "metadata": {},
   "outputs": [
    {
     "data": {
      "text/html": [
       "<div>\n",
       "<style scoped>\n",
       "    .dataframe tbody tr th:only-of-type {\n",
       "        vertical-align: middle;\n",
       "    }\n",
       "\n",
       "    .dataframe tbody tr th {\n",
       "        vertical-align: top;\n",
       "    }\n",
       "\n",
       "    .dataframe thead th {\n",
       "        text-align: right;\n",
       "    }\n",
       "</style>\n",
       "<table border=\"1\" class=\"dataframe\">\n",
       "  <thead>\n",
       "    <tr style=\"text-align: right;\">\n",
       "      <th></th>\n",
       "      <th>HALTER_ID</th>\n",
       "      <th>ALTER</th>\n",
       "      <th>GESCHLECHT</th>\n",
       "      <th>STADTKREIS</th>\n",
       "      <th>STADTQUARTIER</th>\n",
       "      <th>RASSE1</th>\n",
       "      <th>RASSE1_MISCHLING</th>\n",
       "      <th>RASSE2</th>\n",
       "      <th>RASSE2_MISCHLING</th>\n",
       "      <th>RASSENTYP</th>\n",
       "      <th>GEBURTSJAHR_HUND</th>\n",
       "      <th>GESCHLECHT_HUND</th>\n",
       "      <th>HUNDEFARBE</th>\n",
       "    </tr>\n",
       "  </thead>\n",
       "  <tbody>\n",
       "    <tr>\n",
       "      <th>0</th>\n",
       "      <td>126</td>\n",
       "      <td>51-60</td>\n",
       "      <td>m</td>\n",
       "      <td>9.0</td>\n",
       "      <td>92.0</td>\n",
       "      <td>Welsh Terrier</td>\n",
       "      <td>NaN</td>\n",
       "      <td>NaN</td>\n",
       "      <td>NaN</td>\n",
       "      <td>K</td>\n",
       "      <td>2011</td>\n",
       "      <td>w</td>\n",
       "      <td>schwarz/braun</td>\n",
       "    </tr>\n",
       "    <tr>\n",
       "      <th>1</th>\n",
       "      <td>574</td>\n",
       "      <td>61-70</td>\n",
       "      <td>w</td>\n",
       "      <td>2.0</td>\n",
       "      <td>23.0</td>\n",
       "      <td>Cairn Terrier</td>\n",
       "      <td>NaN</td>\n",
       "      <td>NaN</td>\n",
       "      <td>NaN</td>\n",
       "      <td>K</td>\n",
       "      <td>2002</td>\n",
       "      <td>w</td>\n",
       "      <td>brindle</td>\n",
       "    </tr>\n",
       "    <tr>\n",
       "      <th>2</th>\n",
       "      <td>695</td>\n",
       "      <td>41-50</td>\n",
       "      <td>m</td>\n",
       "      <td>6.0</td>\n",
       "      <td>63.0</td>\n",
       "      <td>Labrador Retriever</td>\n",
       "      <td>NaN</td>\n",
       "      <td>NaN</td>\n",
       "      <td>NaN</td>\n",
       "      <td>I</td>\n",
       "      <td>2012</td>\n",
       "      <td>w</td>\n",
       "      <td>braun</td>\n",
       "    </tr>\n",
       "    <tr>\n",
       "      <th>3</th>\n",
       "      <td>893</td>\n",
       "      <td>61-70</td>\n",
       "      <td>w</td>\n",
       "      <td>7.0</td>\n",
       "      <td>71.0</td>\n",
       "      <td>Mittelschnauzer</td>\n",
       "      <td>NaN</td>\n",
       "      <td>NaN</td>\n",
       "      <td>NaN</td>\n",
       "      <td>I</td>\n",
       "      <td>2010</td>\n",
       "      <td>w</td>\n",
       "      <td>schwarz</td>\n",
       "    </tr>\n",
       "    <tr>\n",
       "      <th>4</th>\n",
       "      <td>1177</td>\n",
       "      <td>51-60</td>\n",
       "      <td>m</td>\n",
       "      <td>10.0</td>\n",
       "      <td>102.0</td>\n",
       "      <td>Shih Tzu</td>\n",
       "      <td>NaN</td>\n",
       "      <td>NaN</td>\n",
       "      <td>NaN</td>\n",
       "      <td>K</td>\n",
       "      <td>2011</td>\n",
       "      <td>m</td>\n",
       "      <td>schwarz/weiss</td>\n",
       "    </tr>\n",
       "  </tbody>\n",
       "</table>\n",
       "</div>"
      ],
      "text/plain": [
       "   HALTER_ID  ALTER GESCHLECHT  STADTKREIS  STADTQUARTIER              RASSE1  \\\n",
       "0        126  51-60          m         9.0           92.0       Welsh Terrier   \n",
       "1        574  61-70          w         2.0           23.0       Cairn Terrier   \n",
       "2        695  41-50          m         6.0           63.0  Labrador Retriever   \n",
       "3        893  61-70          w         7.0           71.0     Mittelschnauzer   \n",
       "4       1177  51-60          m        10.0          102.0            Shih Tzu   \n",
       "\n",
       "  RASSE1_MISCHLING RASSE2  RASSE2_MISCHLING RASSENTYP  GEBURTSJAHR_HUND  \\\n",
       "0              NaN    NaN               NaN         K              2011   \n",
       "1              NaN    NaN               NaN         K              2002   \n",
       "2              NaN    NaN               NaN         I              2012   \n",
       "3              NaN    NaN               NaN         I              2010   \n",
       "4              NaN    NaN               NaN         K              2011   \n",
       "\n",
       "  GESCHLECHT_HUND     HUNDEFARBE  \n",
       "0               w  schwarz/braun  \n",
       "1               w        brindle  \n",
       "2               w          braun  \n",
       "3               w        schwarz  \n",
       "4               m  schwarz/weiss  "
      ]
     },
     "execution_count": 3,
     "metadata": {},
     "output_type": "execute_result"
    }
   ],
   "source": [
    "Y2015.head()"
   ]
  },
  {
   "cell_type": "code",
   "execution_count": 4,
   "id": "1de8ada8",
   "metadata": {},
   "outputs": [
    {
     "data": {
      "text/html": [
       "<div>\n",
       "<style scoped>\n",
       "    .dataframe tbody tr th:only-of-type {\n",
       "        vertical-align: middle;\n",
       "    }\n",
       "\n",
       "    .dataframe tbody tr th {\n",
       "        vertical-align: top;\n",
       "    }\n",
       "\n",
       "    .dataframe thead th {\n",
       "        text-align: right;\n",
       "    }\n",
       "</style>\n",
       "<table border=\"1\" class=\"dataframe\">\n",
       "  <thead>\n",
       "    <tr style=\"text-align: right;\">\n",
       "      <th></th>\n",
       "      <th>HALTER_ID</th>\n",
       "      <th>ALTER</th>\n",
       "      <th>GESCHLECHT</th>\n",
       "      <th>STADTKREIS</th>\n",
       "      <th>STADTQUARTIER</th>\n",
       "      <th>RASSE1</th>\n",
       "      <th>RASSE1_MISCHLING</th>\n",
       "      <th>RASSE2</th>\n",
       "      <th>RASSE2_MISCHLING</th>\n",
       "      <th>RASSENTYP</th>\n",
       "      <th>GEBURTSJAHR_HUND</th>\n",
       "      <th>GESCHLECHT_HUND</th>\n",
       "      <th>HUNDEFARBE</th>\n",
       "    </tr>\n",
       "  </thead>\n",
       "  <tbody>\n",
       "    <tr>\n",
       "      <th>0</th>\n",
       "      <td>126</td>\n",
       "      <td>51-60</td>\n",
       "      <td>m</td>\n",
       "      <td>9.0</td>\n",
       "      <td>92.0</td>\n",
       "      <td>Welsh Terrier</td>\n",
       "      <td>NaN</td>\n",
       "      <td>NaN</td>\n",
       "      <td>NaN</td>\n",
       "      <td>K</td>\n",
       "      <td>2011</td>\n",
       "      <td>w</td>\n",
       "      <td>schwarz/braun</td>\n",
       "    </tr>\n",
       "    <tr>\n",
       "      <th>1</th>\n",
       "      <td>171</td>\n",
       "      <td>61-70</td>\n",
       "      <td>m</td>\n",
       "      <td>3.0</td>\n",
       "      <td>31.0</td>\n",
       "      <td>Berner Sennenhund</td>\n",
       "      <td>NaN</td>\n",
       "      <td>NaN</td>\n",
       "      <td>NaN</td>\n",
       "      <td>I</td>\n",
       "      <td>2009</td>\n",
       "      <td>m</td>\n",
       "      <td>tricolor</td>\n",
       "    </tr>\n",
       "    <tr>\n",
       "      <th>2</th>\n",
       "      <td>574</td>\n",
       "      <td>61-70</td>\n",
       "      <td>w</td>\n",
       "      <td>2.0</td>\n",
       "      <td>23.0</td>\n",
       "      <td>Cairn Terrier</td>\n",
       "      <td>NaN</td>\n",
       "      <td>NaN</td>\n",
       "      <td>NaN</td>\n",
       "      <td>K</td>\n",
       "      <td>2002</td>\n",
       "      <td>w</td>\n",
       "      <td>brindle</td>\n",
       "    </tr>\n",
       "    <tr>\n",
       "      <th>3</th>\n",
       "      <td>695</td>\n",
       "      <td>41-50</td>\n",
       "      <td>m</td>\n",
       "      <td>6.0</td>\n",
       "      <td>63.0</td>\n",
       "      <td>Labrador Retriever</td>\n",
       "      <td>NaN</td>\n",
       "      <td>NaN</td>\n",
       "      <td>NaN</td>\n",
       "      <td>I</td>\n",
       "      <td>2012</td>\n",
       "      <td>w</td>\n",
       "      <td>braun</td>\n",
       "    </tr>\n",
       "    <tr>\n",
       "      <th>4</th>\n",
       "      <td>893</td>\n",
       "      <td>61-70</td>\n",
       "      <td>w</td>\n",
       "      <td>7.0</td>\n",
       "      <td>71.0</td>\n",
       "      <td>Mittelschnauzer</td>\n",
       "      <td>NaN</td>\n",
       "      <td>NaN</td>\n",
       "      <td>NaN</td>\n",
       "      <td>I</td>\n",
       "      <td>2010</td>\n",
       "      <td>w</td>\n",
       "      <td>schwarz</td>\n",
       "    </tr>\n",
       "  </tbody>\n",
       "</table>\n",
       "</div>"
      ],
      "text/plain": [
       "   HALTER_ID  ALTER GESCHLECHT  STADTKREIS  STADTQUARTIER              RASSE1  \\\n",
       "0        126  51-60          m         9.0           92.0       Welsh Terrier   \n",
       "1        171  61-70          m         3.0           31.0   Berner Sennenhund   \n",
       "2        574  61-70          w         2.0           23.0       Cairn Terrier   \n",
       "3        695  41-50          m         6.0           63.0  Labrador Retriever   \n",
       "4        893  61-70          w         7.0           71.0     Mittelschnauzer   \n",
       "\n",
       "  RASSE1_MISCHLING RASSE2  RASSE2_MISCHLING RASSENTYP  GEBURTSJAHR_HUND  \\\n",
       "0              NaN    NaN               NaN         K              2011   \n",
       "1              NaN    NaN               NaN         I              2009   \n",
       "2              NaN    NaN               NaN         K              2002   \n",
       "3              NaN    NaN               NaN         I              2012   \n",
       "4              NaN    NaN               NaN         I              2010   \n",
       "\n",
       "  GESCHLECHT_HUND     HUNDEFARBE  \n",
       "0               w  schwarz/braun  \n",
       "1               m       tricolor  \n",
       "2               w        brindle  \n",
       "3               w          braun  \n",
       "4               w        schwarz  "
      ]
     },
     "execution_count": 4,
     "metadata": {},
     "output_type": "execute_result"
    }
   ],
   "source": [
    "Y2016.head()"
   ]
  },
  {
   "cell_type": "code",
   "execution_count": 5,
   "id": "d72cfe38",
   "metadata": {},
   "outputs": [
    {
     "data": {
      "text/html": [
       "<div>\n",
       "<style scoped>\n",
       "    .dataframe tbody tr th:only-of-type {\n",
       "        vertical-align: middle;\n",
       "    }\n",
       "\n",
       "    .dataframe tbody tr th {\n",
       "        vertical-align: top;\n",
       "    }\n",
       "\n",
       "    .dataframe thead th {\n",
       "        text-align: right;\n",
       "    }\n",
       "</style>\n",
       "<table border=\"1\" class=\"dataframe\">\n",
       "  <thead>\n",
       "    <tr style=\"text-align: right;\">\n",
       "      <th></th>\n",
       "      <th>HALTER_ID</th>\n",
       "      <th>ALTER</th>\n",
       "      <th>GESCHLECHT</th>\n",
       "      <th>STADTKREIS</th>\n",
       "      <th>STADTQUARTIER</th>\n",
       "      <th>RASSE1</th>\n",
       "      <th>RASSE1_MISCHLING</th>\n",
       "      <th>RASSE2</th>\n",
       "      <th>RASSE2_MISCHLING</th>\n",
       "      <th>RASSENTYP</th>\n",
       "      <th>GEBURTSJAHR_HUND</th>\n",
       "      <th>GESCHLECHT_HUND</th>\n",
       "      <th>HUNDEFARBE</th>\n",
       "    </tr>\n",
       "  </thead>\n",
       "  <tbody>\n",
       "    <tr>\n",
       "      <th>0</th>\n",
       "      <td>126</td>\n",
       "      <td>61-70</td>\n",
       "      <td>m</td>\n",
       "      <td>9.0</td>\n",
       "      <td>92.0</td>\n",
       "      <td>Welsh Terrier</td>\n",
       "      <td>NaN</td>\n",
       "      <td>NaN</td>\n",
       "      <td>NaN</td>\n",
       "      <td>K</td>\n",
       "      <td>2011</td>\n",
       "      <td>w</td>\n",
       "      <td>schwarz/braun</td>\n",
       "    </tr>\n",
       "    <tr>\n",
       "      <th>1</th>\n",
       "      <td>171</td>\n",
       "      <td>61-70</td>\n",
       "      <td>m</td>\n",
       "      <td>3.0</td>\n",
       "      <td>31.0</td>\n",
       "      <td>Berner Sennenhund</td>\n",
       "      <td>NaN</td>\n",
       "      <td>NaN</td>\n",
       "      <td>NaN</td>\n",
       "      <td>I</td>\n",
       "      <td>2009</td>\n",
       "      <td>m</td>\n",
       "      <td>tricolor</td>\n",
       "    </tr>\n",
       "    <tr>\n",
       "      <th>2</th>\n",
       "      <td>574</td>\n",
       "      <td>61-70</td>\n",
       "      <td>w</td>\n",
       "      <td>2.0</td>\n",
       "      <td>23.0</td>\n",
       "      <td>Mischling gross</td>\n",
       "      <td>NaN</td>\n",
       "      <td>NaN</td>\n",
       "      <td>NaN</td>\n",
       "      <td>I</td>\n",
       "      <td>2013</td>\n",
       "      <td>w</td>\n",
       "      <td>schwarz</td>\n",
       "    </tr>\n",
       "    <tr>\n",
       "      <th>3</th>\n",
       "      <td>695</td>\n",
       "      <td>41-50</td>\n",
       "      <td>m</td>\n",
       "      <td>6.0</td>\n",
       "      <td>63.0</td>\n",
       "      <td>Labrador Retriever</td>\n",
       "      <td>NaN</td>\n",
       "      <td>NaN</td>\n",
       "      <td>NaN</td>\n",
       "      <td>I</td>\n",
       "      <td>2012</td>\n",
       "      <td>w</td>\n",
       "      <td>braun</td>\n",
       "    </tr>\n",
       "    <tr>\n",
       "      <th>4</th>\n",
       "      <td>893</td>\n",
       "      <td>61-70</td>\n",
       "      <td>w</td>\n",
       "      <td>7.0</td>\n",
       "      <td>71.0</td>\n",
       "      <td>Mittelschnauzer</td>\n",
       "      <td>NaN</td>\n",
       "      <td>NaN</td>\n",
       "      <td>NaN</td>\n",
       "      <td>I</td>\n",
       "      <td>2010</td>\n",
       "      <td>w</td>\n",
       "      <td>schwarz</td>\n",
       "    </tr>\n",
       "  </tbody>\n",
       "</table>\n",
       "</div>"
      ],
      "text/plain": [
       "   HALTER_ID  ALTER GESCHLECHT  STADTKREIS  STADTQUARTIER              RASSE1  \\\n",
       "0        126  61-70          m         9.0           92.0       Welsh Terrier   \n",
       "1        171  61-70          m         3.0           31.0   Berner Sennenhund   \n",
       "2        574  61-70          w         2.0           23.0     Mischling gross   \n",
       "3        695  41-50          m         6.0           63.0  Labrador Retriever   \n",
       "4        893  61-70          w         7.0           71.0     Mittelschnauzer   \n",
       "\n",
       "  RASSE1_MISCHLING RASSE2  RASSE2_MISCHLING RASSENTYP  GEBURTSJAHR_HUND  \\\n",
       "0              NaN    NaN               NaN         K              2011   \n",
       "1              NaN    NaN               NaN         I              2009   \n",
       "2              NaN    NaN               NaN         I              2013   \n",
       "3              NaN    NaN               NaN         I              2012   \n",
       "4              NaN    NaN               NaN         I              2010   \n",
       "\n",
       "  GESCHLECHT_HUND     HUNDEFARBE  \n",
       "0               w  schwarz/braun  \n",
       "1               m       tricolor  \n",
       "2               w        schwarz  \n",
       "3               w          braun  \n",
       "4               w        schwarz  "
      ]
     },
     "execution_count": 5,
     "metadata": {},
     "output_type": "execute_result"
    }
   ],
   "source": [
    "Y2017.head()"
   ]
  },
  {
   "cell_type": "code",
   "execution_count": 6,
   "id": "8298f7f3",
   "metadata": {},
   "outputs": [
    {
     "data": {
      "text/plain": [
       "13"
      ]
     },
     "execution_count": 6,
     "metadata": {},
     "output_type": "execute_result"
    }
   ],
   "source": [
    "English_Translation =[\"Dog ID\", 'Age','Gender','District', 'City Quarter','Primary Breed','Primary Breed Mixed','Secondary Breed','Secondary Breed Mixed',\n",
    " 'Size',\"Dog's Year of Birth\",\"Dog's Gender\",\"Dog's color\"]\n",
    "len(English_Translation)"
   ]
  },
  {
   "cell_type": "code",
   "execution_count": 7,
   "id": "dbe0b535",
   "metadata": {},
   "outputs": [],
   "source": [
    "Y2015.columns = English_Translation\n",
    "Y2016.columns = English_Translation\n",
    "Y2017.columns = English_Translation"
   ]
  },
  {
   "cell_type": "markdown",
   "id": "3d6b1648",
   "metadata": {},
   "source": [
    "The alarming thing about this data is the difference between pure breed and mixed dogs. The Zurich data indicates that more people prefer pure breed dog instead of mixed dog. While the reason behind this isn't known, it raises interesting implication for dogs in shelters. \n",
    "If the general preference is pure breed then it's very likely for a mixed breed dogs to be not rescued compare to pure bred dogs. "
   ]
  },
  {
   "cell_type": "markdown",
   "id": "a11c3df7",
   "metadata": {},
   "source": [
    "Moreover, when it comes to age group, the younger generations are more likely to avoid getting mixed dogs. "
   ]
  },
  {
   "cell_type": "code",
   "execution_count": 10,
   "id": "19c4c16d",
   "metadata": {},
   "outputs": [
    {
     "data": {
      "text/plain": [
       "(array([0, 1, 2, 3, 4, 5, 6, 7, 8, 9]),\n",
       " [Text(0, 0, 'Mischling klein'),\n",
       "  Text(1, 0, 'Chihuahua'),\n",
       "  Text(2, 0, 'Labrador Retriever'),\n",
       "  Text(3, 0, 'Jack Russel Terrier'),\n",
       "  Text(4, 0, 'Yorkshire Terrier'),\n",
       "  Text(5, 0, 'Malteser'),\n",
       "  Text(6, 0, 'Mops'),\n",
       "  Text(7, 0, 'Golden Retriever'),\n",
       "  Text(8, 0, 'Französische Bulldogge'),\n",
       "  Text(9, 0, 'Mischling gross')])"
      ]
     },
     "execution_count": 10,
     "metadata": {},
     "output_type": "execute_result"
    },
    {
     "data": {
      "image/png": "[encoded data removed]",
      "text/plain": [
       "<Figure size 432x288 with 1 Axes>"
      ]
     },
     "metadata": {
      "needs_background": "light"
     },
     "output_type": "display_data"
    }
   ],
   "source": [
    "ten_popular = Y2015['Primary Breed'].value_counts()[10]\n",
    "popular_dogs = pd.DataFrame(Y2015['Primary Breed'].value_counts())\n",
    "popular_dogs_df = popular_dogs[popular_dogs['Primary Breed']>ten_popular]\n",
    "sns.barplot(data= popular_dogs_df, x =popular_dogs_df.index, y = 'Primary Breed')\n",
    "plt.xticks(rotation=90)"
   ]
  },
  {
   "cell_type": "markdown",
   "id": "4be52273",
   "metadata": {},
   "source": [
    "These are the most popular breed of dogs in Zurich."
   ]
  },
  {
   "cell_type": "code",
   "execution_count": 11,
   "id": "f91b9711",
   "metadata": {},
   "outputs": [
    {
     "data": {
      "text/plain": [
       "<AxesSubplot:xlabel='Primary Breed'>"
      ]
     },
     "execution_count": 11,
     "metadata": {},
     "output_type": "execute_result"
    },
    {
     "data": {
      "image/png": "[encoded data removed]",
      "text/plain": [
       "<Figure size 1080x576 with 1 Axes>"
      ]
     },
     "metadata": {
      "needs_background": "light"
     },
     "output_type": "display_data"
    }
   ],
   "source": [
    "Age_Dog = pd.DataFrame(Y2015[['Primary Breed', 'Age',]].value_counts())\n",
    "Age_Dog.reset_index(inplace = True)\n",
    "Age_Dog_DF = Age_Dog[Age_Dog['Primary Breed'].isin(popular_dogs_df.index)]\n",
    "Age_Dog_DF.columns = ['Primary Breed', 'Age', 'Count']\n",
    "Age_Dog_DF.set_index(['Primary Breed', 'Age'], inplace = True)\n",
    "Age_Dog_DF.unstack().plot(kind='bar', stacked=True,figsize=(15, 8))"
   ]
  },
  {
   "cell_type": "code",
   "execution_count": 12,
   "id": "a3e9dce2",
   "metadata": {
    "scrolled": false
   },
   "outputs": [
    {
     "data": {
      "text/plain": [
       "<AxesSubplot:xlabel='Age'>"
      ]
     },
     "execution_count": 12,
     "metadata": {},
     "output_type": "execute_result"
    },
    {
     "data": {
      "image/png": "[encoded data removed]",
      "text/plain": [
       "<Figure size 1080x576 with 1 Axes>"
      ]
     },
     "metadata": {
      "needs_background": "light"
     },
     "output_type": "display_data"
    }
   ],
   "source": [
    "Size_Dog = pd.DataFrame(Y2015[['Age', 'Size']].value_counts())\n",
    "Size_Dog.reset_index(inplace= True)\n",
    "Size_Dog.columns = ['Age', 'Size', 'Count']\n",
    "Size_Dog_df = Size_Dog.set_index(['Age', 'Size'])\n",
    "Size_Dog_df.unstack().plot(kind='bar',figsize=(15, 8))"
   ]
  },
  {
   "cell_type": "code",
   "execution_count": 13,
   "id": "8e7fee3b",
   "metadata": {},
   "outputs": [
    {
     "data": {
      "text/plain": [
       "<AxesSubplot:xlabel='Gender'>"
      ]
     },
     "execution_count": 13,
     "metadata": {},
     "output_type": "execute_result"
    },
    {
     "data": {
      "image/png": "[encoded data removed]",
      "text/plain": [
       "<Figure size 1080x576 with 1 Axes>"
      ]
     },
     "metadata": {
      "needs_background": "light"
     },
     "output_type": "display_data"
    }
   ],
   "source": [
    "Age_Size = pd.DataFrame(Y2015[['Gender', 'Size']].value_counts())\n",
    "Age_Size.reset_index(inplace= True)\n",
    "Age_Size.columns = ['Gender', 'Size', 'Count']\n",
    "Age_Size_df = Age_Size.set_index(['Gender', 'Size'])\n",
    "Age_Size_df.unstack().plot(kind='bar',figsize=(15, 8))"
   ]
  },
  {
   "cell_type": "markdown",
   "id": "70eb2939",
   "metadata": {},
   "source": [
    "It's clear that more people prefer smaller dogs and pure breed. This could be many things like apartment size and maybe smaller dogs being easier to handle. \n",
    "But then, why are mixed breed being neglected more compare to pure ones?"
   ]
  },
  {
   "cell_type": "code",
   "execution_count": null,
   "id": "0622ddc7",
   "metadata": {},
   "outputs": [],
   "source": []
  },
  {
   "cell_type": "code",
   "execution_count": 8,
   "id": "4159b471",
   "metadata": {},
   "outputs": [
    {
     "data": {
      "text/html": [
       "<div>\n",
       "<style scoped>\n",
       "    .dataframe tbody tr th:only-of-type {\n",
       "        vertical-align: middle;\n",
       "    }\n",
       "\n",
       "    .dataframe tbody tr th {\n",
       "        vertical-align: top;\n",
       "    }\n",
       "\n",
       "    .dataframe thead th {\n",
       "        text-align: right;\n",
       "    }\n",
       "</style>\n",
       "<table border=\"1\" class=\"dataframe\">\n",
       "  <thead>\n",
       "    <tr style=\"text-align: right;\">\n",
       "      <th></th>\n",
       "      <th>Primary Breed Mixed</th>\n",
       "    </tr>\n",
       "  </thead>\n",
       "  <tbody>\n",
       "    <tr>\n",
       "      <th>Pure</th>\n",
       "      <td>6312</td>\n",
       "    </tr>\n",
       "    <tr>\n",
       "      <th>Mischling</th>\n",
       "      <td>668</td>\n",
       "    </tr>\n",
       "  </tbody>\n",
       "</table>\n",
       "</div>"
      ],
      "text/plain": [
       "           Primary Breed Mixed\n",
       "Pure                      6312\n",
       "Mischling                  668"
      ]
     },
     "execution_count": 8,
     "metadata": {},
     "output_type": "execute_result"
    },
    {
     "data": {
      "image/png": "[encoded data removed]",
      "text/plain": [
       "<Figure size 432x288 with 1 Axes>"
      ]
     },
     "metadata": {
      "needs_background": "light"
     },
     "output_type": "display_data"
    }
   ],
   "source": [
    "Mixed_dog = pd.DataFrame(Y2015['Primary Breed Mixed'].fillna('Pure').value_counts())\n",
    "sns.barplot(data= Mixed_dog, x =Mixed_dog.index, y = 'Primary Breed Mixed')\n",
    "plt.xticks(rotation=90)\n",
    "Mixed_dog"
   ]
  },
  {
   "cell_type": "code",
   "execution_count": 9,
   "id": "ec81f602",
   "metadata": {
    "scrolled": false
   },
   "outputs": [
    {
     "data": {
      "text/plain": [
       "<AxesSubplot:xlabel='Primary Breed Mixed', ylabel='Age'>"
      ]
     },
     "execution_count": 9,
     "metadata": {},
     "output_type": "execute_result"
    },
    {
     "data": {
      "image/png": "[encoded data removed]",
      "text/plain": [
       "<Figure size 432x288 with 1 Axes>"
      ]
     },
     "metadata": {
      "needs_background": "light"
     },
     "output_type": "display_data"
    }
   ],
   "source": [
    "Age_Mixed_dog = pd.DataFrame(Y2015[['Primary Breed Mixed', 'Age']].fillna('Pure'))\n",
    "x = Age_Mixed_dog.set_index('Age').drop(index = 'Pure')\n",
    "x.rename({'51-60':50, '41-50':40, '31-40':30, '61-70':60, '21-30':20, '71-80':70, '81-90':80, '11-20':10,\n",
    "       '91-100':90}, inplace = True)\n",
    "sns.boxplot(data =x, y=x.index, x ='Primary Breed Mixed' )"
   ]
  },
  {
   "cell_type": "markdown",
   "id": "565a41fa",
   "metadata": {},
   "source": [
    "And why are the younger generation neglecting mixed breeds? Do pure breed look better and just there for looks? \n",
    "Are these dogs better to show their peers on Instagram?"
   ]
  },
  {
   "cell_type": "code",
   "execution_count": null,
   "id": "d0c41311",
   "metadata": {},
   "outputs": [],
   "source": []
  }
 ],
 "metadata": {
  "kernelspec": {
   "display_name": "Python 3 (ipykernel)",
   "language": "python",
   "name": "python3"
  },
  "language_info": {
   "codemirror_mode": {
    "name": "ipython",
    "version": 3
   },
   "file_extension": ".py",
   "mimetype": "text/x-python",
   "name": "python",
   "nbconvert_exporter": "python",
   "pygments_lexer": "ipython3",
   "version": "3.9.7"
  }
 },
 "nbformat": 4,
 "nbformat_minor": 5
}
